{
 "cells": [
  {
   "cell_type": "markdown",
   "metadata": {},
   "source": [
    "# Hot spots for solar energy harvesting in the State of Virginia"
   ]
  },
  {
   "cell_type": "markdown",
   "metadata": {},
   "source": [
    "#### Team Members:\n",
    "* Hong Jik Lee (hl6ga@virginia.edu)\n",
    "* Zoya Yeprem (zy8ez@virginia.edu)\n",
    "* Aishwarya Sariya (ams4bv@virginia.edu)"
   ]
  },
  {
   "cell_type": "markdown",
   "metadata": {},
   "source": [
    "### Reading the data"
   ]
  },
  {
   "cell_type": "code",
   "execution_count": 2,
   "metadata": {},
   "outputs": [
    {
     "name": "stdout",
     "output_type": "stream",
     "text": [
      "   Unnamed: 0  Year  Month  Day  Hour  Minute  DHI  DNI  GHI  Dew Point  \\\n",
      "0           0  2000      1    1     0       0    0    0    0        0.7   \n",
      "1           1  2000      1    1     1       0    0    0    0        0.3   \n",
      "2           2  2000      1    1     2       0    0    0    0        0.3   \n",
      "3           3  2000      1    1     3       0    0    0    0        0.1   \n",
      "4           4  2000      1    1     4       0    0    0    0        0.2   \n",
      "\n",
      "   Temperature  Pressure  Relative Humidity  Wind Speed  Latitude  Longitude  \n",
      "0            7      1022                100         2.6   36.8125   -76.0625  \n",
      "1            3      1023                100         1.5   36.8125   -76.0625  \n",
      "2            3      1023                100         0.0   36.8125   -76.0625  \n",
      "3            1      1023                100         2.1   36.8125   -76.0625  \n",
      "4            2      1023                100         0.0   36.8125   -76.0625  \n",
      "---------------------------------------------------------------------------------------------------\n",
      "<class 'pandas.core.frame.DataFrame'>\n",
      "RangeIndex: 1944501 entries, 0 to 1944500\n",
      "Data columns (total 16 columns):\n",
      "Unnamed: 0           int64\n",
      "Year                 int64\n",
      "Month                int64\n",
      "Day                  int64\n",
      "Hour                 int64\n",
      "Minute               int64\n",
      "DHI                  int64\n",
      "DNI                  int64\n",
      "GHI                  int64\n",
      "Dew Point            float64\n",
      "Temperature          int64\n",
      "Pressure             int64\n",
      "Relative Humidity    int64\n",
      "Wind Speed           float64\n",
      "Latitude             float64\n",
      "Longitude            float64\n",
      "dtypes: float64(4), int64(12)\n",
      "memory usage: 237.4 MB\n",
      "None\n",
      "---------------------------------------------------------------------------------------------------\n"
     ]
    }
   ],
   "source": [
    "import os\n",
    "import numpy as np\n",
    "import pandas as pd\n",
    "import glob\n",
    "import csv\n",
    "\n",
    "\n",
    "maindata = pd.read_csv('MainData.csv')\n",
    "\n",
    "print(maindata.head())\n",
    "print(\"---------------------------------------------------------------------------------------------------\")\n",
    "print(maindata.info())\n",
    "print(\"---------------------------------------------------------------------------------------------------\")"
   ]
  },
  {
   "cell_type": "markdown",
   "metadata": {},
   "source": [
    "### Dropping unnecessary rows"
   ]
  },
  {
   "cell_type": "code",
   "execution_count": 3,
   "metadata": {},
   "outputs": [
    {
     "name": "stdout",
     "output_type": "stream",
     "text": [
      "         Unnamed: 0  Year  Month  Day  Hour  Minute  DHI  DNI  GHI  Dew Point  \\\n",
      "7                 7  2000      1    1     7       0    3  153    8        0.8   \n",
      "8                 8  2000      1    1     8       0   66  491  163        0.9   \n",
      "9                 9  2000      1    1     9       0   87  625  297        0.9   \n",
      "10               10  2000      1    1    10       0  105  683  404        0.7   \n",
      "11               11  2000      1    1    11       0  119  706  468        0.4   \n",
      "12               12  2000      1    1    12       0  126  665  458        0.3   \n",
      "13               13  2000      1    1    13       0  118  635  408        0.4   \n",
      "14               14  2000      1    1    14       0   89  620  316        0.9   \n",
      "15               15  2000      1    1    15       0   58  538  185        0.9   \n",
      "16               16  2000      1    1    16       0   21  244   39        0.9   \n",
      "31               31  2000      1    2     7       0    4   46    5        1.1   \n",
      "32               32  2000      1    2     8       0   82  150  111        1.1   \n",
      "33               33  2000      1    2     9       0  157   88  186        1.1   \n",
      "34               34  2000      1    2    10       0  182  391  353        0.9   \n",
      "35               35  2000      1    2    11       0  143  658  468        0.9   \n",
      "36               36  2000      1    2    12       0  119  689  464        0.9   \n",
      "37               37  2000      1    2    13       0  177  517  414        0.9   \n",
      "38               38  2000      1    2    14       0  156   64  180        1.0   \n",
      "39               39  2000      1    2    15       0   94  365  180        1.0   \n",
      "40               40  2000      1    2    16       0   17  264   37        1.0   \n",
      "55               55  2000      1    3     7       0    3  145    8        1.3   \n",
      "56               56  2000      1    3     8       0   71  471  163        1.4   \n",
      "57               57  2000      1    3     9       0   94  563  283        1.4   \n",
      "58               58  2000      1    3    10       0  184  384  353        1.4   \n",
      "59               59  2000      1    3    11       0  157  652  480        1.4   \n",
      "60               60  2000      1    3    12       0  173  557  453        1.3   \n",
      "61               61  2000      1    3    13       0  221  220  322        1.3   \n",
      "62               62  2000      1    3    14       0  159  263  257        1.3   \n",
      "63               63  2000      1    3    15       0   83  427  186        1.3   \n",
      "64               64  2000      1    3    16       0   20  153   32        1.4   \n",
      "...             ...   ...    ...  ...   ...     ...  ...  ...  ...        ...   \n",
      "1944419      683121  2005     12   28    14       0  176   88  210        0.9   \n",
      "1944420      683122  2005     12   28    15       0   35    0   35        1.0   \n",
      "1944421      683123  2005     12   28    16       0   14    0   14        1.1   \n",
      "1944437      683139  2005     12   29     8       0   39    0   39        0.8   \n",
      "1944438      683140  2005     12   29     9       0   50    0   50        0.8   \n",
      "1944439      683141  2005     12   29    10       0  137    0  137        0.8   \n",
      "1944440      683142  2005     12   29    11       0  203   30  217        0.5   \n",
      "1944441      683143  2005     12   29    12       0   84    0   84        0.4   \n",
      "1944442      683144  2005     12   29    13       0   75    0   75        0.3   \n",
      "1944443      683145  2005     12   29    14       0   61    0   61        0.3   \n",
      "1944444      683146  2005     12   29    15       0   71    0   71        0.2   \n",
      "1944445      683147  2005     12   29    16       0   43   99   55        0.1   \n",
      "1944461      683163  2005     12   30     8       0   62  486  138        0.2   \n",
      "1944462      683164  2005     12   30     9       0   74  714  292        0.2   \n",
      "1944463      683165  2005     12   30    10       0   82  803  416        0.2   \n",
      "1944464      683166  2005     12   30    11       0   80  847  491        0.2   \n",
      "1944465      683167  2005     12   30    12       0   99  816  510        0.2   \n",
      "1944466      683168  2005     12   30    13       0  115  726  458        0.3   \n",
      "1944467      683169  2005     12   30    14       0   88  705  366        0.3   \n",
      "1944468      683170  2005     12   30    15       0   57  667  238        0.2   \n",
      "1944469      683171  2005     12   30    16       0   23  433   74        0.3   \n",
      "1944485      683187  2005     12   31     8       0   66   22   69        0.4   \n",
      "1944486      683188  2005     12   31     9       0  135  304  228        0.5   \n",
      "1944487      683189  2005     12   31    10       0  163  607  416        0.6   \n",
      "1944488      683190  2005     12   31    11       0  231  266  360        0.5   \n",
      "1944489      683191  2005     12   31    12       0  201  552  480        0.3   \n",
      "1944490      683192  2005     12   31    13       0  241  202  336       -0.1   \n",
      "1944491      683193  2005     12   31    14       0  155  394  310       -0.1   \n",
      "1944492      683194  2005     12   31    15       0   85  411  198       -0.2   \n",
      "1944493      683195  2005     12   31    16       0   26  340   67       -0.2   \n",
      "\n",
      "         Temperature  Pressure  Relative Humidity  Wind Speed  Latitude  \\\n",
      "7                  8      1025                100         2.1   36.8125   \n",
      "8                 11      1025                 87         4.1   36.8125   \n",
      "9                 13      1025                 77         5.7   36.8125   \n",
      "10                16      1025                 55         4.6   36.8125   \n",
      "11                18      1024                 39         5.2   36.8125   \n",
      "12                18      1023                 37         5.2   36.8125   \n",
      "13                19      1023                 37         4.1   36.8125   \n",
      "14                18      1023                 56         2.6   36.8125   \n",
      "15                18      1023                 56         2.6   36.8125   \n",
      "16                16      1024                 63         2.6   36.8125   \n",
      "31                11      1024                100         2.1   36.8125   \n",
      "32                12      1024                 94         2.6   36.8125   \n",
      "33                14      1025                 82         4.1   36.8125   \n",
      "34                18      1024                 56         3.6   36.8125   \n",
      "35                19      1023                 52         5.2   36.8125   \n",
      "36                21      1022                 46         6.7   36.8125   \n",
      "37                22      1021                 43         6.2   36.8125   \n",
      "38                21      1021                 49         5.7   36.8125   \n",
      "39                20      1021                 53         5.2   36.8125   \n",
      "40                18      1021                 59         4.1   36.8125   \n",
      "55                14      1022                 94         4.1   36.8125   \n",
      "56                16      1022                 88         5.2   36.8125   \n",
      "57                18      1022                 77         5.7   36.8125   \n",
      "58                19      1022                 73         6.2   36.8125   \n",
      "59                19      1021                 73         6.2   36.8125   \n",
      "60                23      1020                 53         6.7   36.8125   \n",
      "61                23      1019                 53         7.2   36.8125   \n",
      "62                23      1019                 53         5.2   36.8125   \n",
      "63                22      1019                 57         3.9   36.8125   \n",
      "64                21      1020                 64         2.6   36.8125   \n",
      "...              ...       ...                ...         ...       ...   \n",
      "1944419           12       979                 82         1.5   36.6250   \n",
      "1944420           10       979                100         0.0   36.6250   \n",
      "1944421           11       979                100         0.0   36.6250   \n",
      "1944437            8       979                100         0.0   36.6250   \n",
      "1944438            9       979                 93         2.6   36.6250   \n",
      "1944439           11       979                 82         3.6   36.6250   \n",
      "1944440           10       979                 71         6.2   36.6250   \n",
      "1944441           10       979                 66         5.1   36.6250   \n",
      "1944442            8       979                 71         4.6   36.6250   \n",
      "1944443            9       979                 66         7.7   36.6250   \n",
      "1944444            8       979                 66         5.7   36.6250   \n",
      "1944445            7       979                 66         5.7   36.6250   \n",
      "1944461            6       979                 75         4.6   36.6250   \n",
      "1944462            8       979                 66         5.1   36.6250   \n",
      "1944463            9       979                 61         1.5   36.6250   \n",
      "1944464           11       979                 54         0.0   36.6250   \n",
      "1944465           12       979                 50         0.0   36.6250   \n",
      "1944466           13       979                 51         0.0   36.6250   \n",
      "1944467           13       979                 51         0.0   36.6250   \n",
      "1944468           12       979                 50         0.0   36.6250   \n",
      "1944469           11       979                 58         0.0   36.6250   \n",
      "1944485            6       979                 87         0.0   36.6250   \n",
      "1944486            8       979                 81         2.6   36.6250   \n",
      "1944487           11       979                 71         0.0   36.6250   \n",
      "1944488           13       979                 58         0.0   36.6250   \n",
      "1944489           14       979                 47         2.6   36.6250   \n",
      "1944490           14       979                 35         3.6   36.6250   \n",
      "1944491           14       979                 35         2.1   36.6250   \n",
      "1944492           13       979                 35         2.6   36.6250   \n",
      "1944493           11       979                 39         3.1   36.6250   \n",
      "\n",
      "         Longitude  \n",
      "7         -76.0625  \n",
      "8         -76.0625  \n",
      "9         -76.0625  \n",
      "10        -76.0625  \n",
      "11        -76.0625  \n",
      "12        -76.0625  \n",
      "13        -76.0625  \n",
      "14        -76.0625  \n",
      "15        -76.0625  \n",
      "16        -76.0625  \n",
      "31        -76.0625  \n",
      "32        -76.0625  \n",
      "33        -76.0625  \n",
      "34        -76.0625  \n",
      "35        -76.0625  \n",
      "36        -76.0625  \n",
      "37        -76.0625  \n",
      "38        -76.0625  \n",
      "39        -76.0625  \n",
      "40        -76.0625  \n",
      "55        -76.0625  \n",
      "56        -76.0625  \n",
      "57        -76.0625  \n",
      "58        -76.0625  \n",
      "59        -76.0625  \n",
      "60        -76.0625  \n",
      "61        -76.0625  \n",
      "62        -76.0625  \n",
      "63        -76.0625  \n",
      "64        -76.0625  \n",
      "...            ...  \n",
      "1944419   -80.0000  \n",
      "1944420   -80.0000  \n",
      "1944421   -80.0000  \n",
      "1944437   -80.0000  \n",
      "1944438   -80.0000  \n",
      "1944439   -80.0000  \n",
      "1944440   -80.0000  \n",
      "1944441   -80.0000  \n",
      "1944442   -80.0000  \n",
      "1944443   -80.0000  \n",
      "1944444   -80.0000  \n",
      "1944445   -80.0000  \n",
      "1944461   -80.0000  \n",
      "1944462   -80.0000  \n",
      "1944463   -80.0000  \n",
      "1944464   -80.0000  \n",
      "1944465   -80.0000  \n",
      "1944466   -80.0000  \n",
      "1944467   -80.0000  \n",
      "1944468   -80.0000  \n",
      "1944469   -80.0000  \n",
      "1944485   -80.0000  \n",
      "1944486   -80.0000  \n",
      "1944487   -80.0000  \n",
      "1944488   -80.0000  \n",
      "1944489   -80.0000  \n",
      "1944490   -80.0000  \n",
      "1944491   -80.0000  \n",
      "1944492   -80.0000  \n",
      "1944493   -80.0000  \n",
      "\n",
      "[953107 rows x 16 columns]\n"
     ]
    }
   ],
   "source": [
    "data_tr = maindata[maindata['GHI'] != 0]\n",
    "print(data_tr)"
   ]
  },
  {
   "cell_type": "markdown",
   "metadata": {},
   "source": [
    "### Dropping unnecessary columns"
   ]
  },
  {
   "cell_type": "code",
   "execution_count": 4,
   "metadata": {},
   "outputs": [
    {
     "name": "stdout",
     "output_type": "stream",
     "text": [
      "         DHI  DNI  GHI  Dew Point  Temperature  Pressure  Relative Humidity  \\\n",
      "7          3  153    8        0.8            8      1025                100   \n",
      "8         66  491  163        0.9           11      1025                 87   \n",
      "9         87  625  297        0.9           13      1025                 77   \n",
      "10       105  683  404        0.7           16      1025                 55   \n",
      "11       119  706  468        0.4           18      1024                 39   \n",
      "12       126  665  458        0.3           18      1023                 37   \n",
      "13       118  635  408        0.4           19      1023                 37   \n",
      "14        89  620  316        0.9           18      1023                 56   \n",
      "15        58  538  185        0.9           18      1023                 56   \n",
      "16        21  244   39        0.9           16      1024                 63   \n",
      "31         4   46    5        1.1           11      1024                100   \n",
      "32        82  150  111        1.1           12      1024                 94   \n",
      "33       157   88  186        1.1           14      1025                 82   \n",
      "34       182  391  353        0.9           18      1024                 56   \n",
      "35       143  658  468        0.9           19      1023                 52   \n",
      "36       119  689  464        0.9           21      1022                 46   \n",
      "37       177  517  414        0.9           22      1021                 43   \n",
      "38       156   64  180        1.0           21      1021                 49   \n",
      "39        94  365  180        1.0           20      1021                 53   \n",
      "40        17  264   37        1.0           18      1021                 59   \n",
      "55         3  145    8        1.3           14      1022                 94   \n",
      "56        71  471  163        1.4           16      1022                 88   \n",
      "57        94  563  283        1.4           18      1022                 77   \n",
      "58       184  384  353        1.4           19      1022                 73   \n",
      "59       157  652  480        1.4           19      1021                 73   \n",
      "60       173  557  453        1.3           23      1020                 53   \n",
      "61       221  220  322        1.3           23      1019                 53   \n",
      "62       159  263  257        1.3           23      1019                 53   \n",
      "63        83  427  186        1.3           22      1019                 57   \n",
      "64        20  153   32        1.4           21      1020                 64   \n",
      "...      ...  ...  ...        ...          ...       ...                ...   \n",
      "1944419  176   88  210        0.9           12       979                 82   \n",
      "1944420   35    0   35        1.0           10       979                100   \n",
      "1944421   14    0   14        1.1           11       979                100   \n",
      "1944437   39    0   39        0.8            8       979                100   \n",
      "1944438   50    0   50        0.8            9       979                 93   \n",
      "1944439  137    0  137        0.8           11       979                 82   \n",
      "1944440  203   30  217        0.5           10       979                 71   \n",
      "1944441   84    0   84        0.4           10       979                 66   \n",
      "1944442   75    0   75        0.3            8       979                 71   \n",
      "1944443   61    0   61        0.3            9       979                 66   \n",
      "1944444   71    0   71        0.2            8       979                 66   \n",
      "1944445   43   99   55        0.1            7       979                 66   \n",
      "1944461   62  486  138        0.2            6       979                 75   \n",
      "1944462   74  714  292        0.2            8       979                 66   \n",
      "1944463   82  803  416        0.2            9       979                 61   \n",
      "1944464   80  847  491        0.2           11       979                 54   \n",
      "1944465   99  816  510        0.2           12       979                 50   \n",
      "1944466  115  726  458        0.3           13       979                 51   \n",
      "1944467   88  705  366        0.3           13       979                 51   \n",
      "1944468   57  667  238        0.2           12       979                 50   \n",
      "1944469   23  433   74        0.3           11       979                 58   \n",
      "1944485   66   22   69        0.4            6       979                 87   \n",
      "1944486  135  304  228        0.5            8       979                 81   \n",
      "1944487  163  607  416        0.6           11       979                 71   \n",
      "1944488  231  266  360        0.5           13       979                 58   \n",
      "1944489  201  552  480        0.3           14       979                 47   \n",
      "1944490  241  202  336       -0.1           14       979                 35   \n",
      "1944491  155  394  310       -0.1           14       979                 35   \n",
      "1944492   85  411  198       -0.2           13       979                 35   \n",
      "1944493   26  340   67       -0.2           11       979                 39   \n",
      "\n",
      "         Wind Speed  \n",
      "7               2.1  \n",
      "8               4.1  \n",
      "9               5.7  \n",
      "10              4.6  \n",
      "11              5.2  \n",
      "12              5.2  \n",
      "13              4.1  \n",
      "14              2.6  \n",
      "15              2.6  \n",
      "16              2.6  \n",
      "31              2.1  \n",
      "32              2.6  \n",
      "33              4.1  \n",
      "34              3.6  \n",
      "35              5.2  \n",
      "36              6.7  \n",
      "37              6.2  \n",
      "38              5.7  \n",
      "39              5.2  \n",
      "40              4.1  \n",
      "55              4.1  \n",
      "56              5.2  \n",
      "57              5.7  \n",
      "58              6.2  \n",
      "59              6.2  \n",
      "60              6.7  \n",
      "61              7.2  \n",
      "62              5.2  \n",
      "63              3.9  \n",
      "64              2.6  \n",
      "...             ...  \n",
      "1944419         1.5  \n",
      "1944420         0.0  \n",
      "1944421         0.0  \n",
      "1944437         0.0  \n",
      "1944438         2.6  \n",
      "1944439         3.6  \n",
      "1944440         6.2  \n",
      "1944441         5.1  \n",
      "1944442         4.6  \n",
      "1944443         7.7  \n",
      "1944444         5.7  \n",
      "1944445         5.7  \n",
      "1944461         4.6  \n",
      "1944462         5.1  \n",
      "1944463         1.5  \n",
      "1944464         0.0  \n",
      "1944465         0.0  \n",
      "1944466         0.0  \n",
      "1944467         0.0  \n",
      "1944468         0.0  \n",
      "1944469         0.0  \n",
      "1944485         0.0  \n",
      "1944486         2.6  \n",
      "1944487         0.0  \n",
      "1944488         0.0  \n",
      "1944489         2.6  \n",
      "1944490         3.6  \n",
      "1944491         2.1  \n",
      "1944492         2.6  \n",
      "1944493         3.1  \n",
      "\n",
      "[953107 rows x 8 columns]\n"
     ]
    }
   ],
   "source": [
    "# Dropping columns that are not required\n",
    "\n",
    "data_altered = data_tr.drop([\"Unnamed: 0\",\"Year\",\"Month\",\"Day\",\"Hour\",\"Minute\",\"Latitude\",\"Longitude\"], axis=1)\n",
    "print(data_altered)"
   ]
  },
  {
   "cell_type": "markdown",
   "metadata": {},
   "source": [
    "### Output the data"
   ]
  },
  {
   "cell_type": "code",
   "execution_count": 10,
   "metadata": {
    "collapsed": true
   },
   "outputs": [],
   "source": [
    "# Output the data\n",
    "\n",
    "data_altered.to_csv('Altered Data.csv')"
   ]
  },
  {
   "cell_type": "markdown",
   "metadata": {},
   "source": [
    "### Plotting the histogram"
   ]
  },
  {
   "cell_type": "code",
   "execution_count": 5,
   "metadata": {},
   "outputs": [
    {
     "data": {
      "image/png": "[encoded data removed]",
      "text/plain": [
       "<matplotlib.figure.Figure at 0x2bc80007400>"
      ]
     },
     "metadata": {},
     "output_type": "display_data"
    }
   ],
   "source": [
    "import matplotlib\n",
    "import matplotlib.pyplot as plt\n",
    "\n",
    "# Plotting the Histogram\n",
    "data_altered.hist()\n",
    "plt.show()"
   ]
  },
  {
   "cell_type": "markdown",
   "metadata": {},
   "source": [
    "### Plotting the Scatter Matrix"
   ]
  },
  {
   "cell_type": "code",
   "execution_count": 15,
   "metadata": {},
   "outputs": [
    {
     "data": {
      "text/plain": [
       "array([[<matplotlib.axes._subplots.AxesSubplot object at 0x000001D500ACD8D0>,\n",
       "        <matplotlib.axes._subplots.AxesSubplot object at 0x000001D50B9E02E8>,\n",
       "        <matplotlib.axes._subplots.AxesSubplot object at 0x000001D50BDFC5F8>,\n",
       "        <matplotlib.axes._subplots.AxesSubplot object at 0x000001D50BE22C50>,\n",
       "        <matplotlib.axes._subplots.AxesSubplot object at 0x000001D515BD5320>,\n",
       "        <matplotlib.axes._subplots.AxesSubplot object at 0x000001D515BD5358>,\n",
       "        <matplotlib.axes._subplots.AxesSubplot object at 0x000001D515C2B080>,\n",
       "        <matplotlib.axes._subplots.AxesSubplot object at 0x000001D515C53710>],\n",
       "       [<matplotlib.axes._subplots.AxesSubplot object at 0x000001D515C7EDA0>,\n",
       "        <matplotlib.axes._subplots.AxesSubplot object at 0x000001D515CAF470>,\n",
       "        <matplotlib.axes._subplots.AxesSubplot object at 0x000001D515CD4B00>,\n",
       "        <matplotlib.axes._subplots.AxesSubplot object at 0x000001D515D071D0>,\n",
       "        <matplotlib.axes._subplots.AxesSubplot object at 0x000001D515D2D860>,\n",
       "        <matplotlib.axes._subplots.AxesSubplot object at 0x000001D50B589CF8>,\n",
       "        <matplotlib.axes._subplots.AxesSubplot object at 0x000001D515D693C8>,\n",
       "        <matplotlib.axes._subplots.AxesSubplot object at 0x000001D515D93A58>],\n",
       "       [<matplotlib.axes._subplots.AxesSubplot object at 0x000001D515DC7128>,\n",
       "        <matplotlib.axes._subplots.AxesSubplot object at 0x000001D515DEC7B8>,\n",
       "        <matplotlib.axes._subplots.AxesSubplot object at 0x000001D515E14E48>,\n",
       "        <matplotlib.axes._subplots.AxesSubplot object at 0x000001D515E47518>,\n",
       "        <matplotlib.axes._subplots.AxesSubplot object at 0x000001D515E6DBA8>,\n",
       "        <matplotlib.axes._subplots.AxesSubplot object at 0x000001D515E9F278>,\n",
       "        <matplotlib.axes._subplots.AxesSubplot object at 0x000001D515EC9908>,\n",
       "        <matplotlib.axes._subplots.AxesSubplot object at 0x000001D515EF0F98>],\n",
       "       [<matplotlib.axes._subplots.AxesSubplot object at 0x000001D515F21668>,\n",
       "        <matplotlib.axes._subplots.AxesSubplot object at 0x000001D515F4BCF8>,\n",
       "        <matplotlib.axes._subplots.AxesSubplot object at 0x000001D515F7E3C8>,\n",
       "        <matplotlib.axes._subplots.AxesSubplot object at 0x000001D515FA5A58>,\n",
       "        <matplotlib.axes._subplots.AxesSubplot object at 0x000001D515FD8128>,\n",
       "        <matplotlib.axes._subplots.AxesSubplot object at 0x000001D5160007B8>,\n",
       "        <matplotlib.axes._subplots.AxesSubplot object at 0x000001D516026E48>,\n",
       "        <matplotlib.axes._subplots.AxesSubplot object at 0x000001D516058518>],\n",
       "       [<matplotlib.axes._subplots.AxesSubplot object at 0x000001D516081BA8>,\n",
       "        <matplotlib.axes._subplots.AxesSubplot object at 0x000001D5160B3278>,\n",
       "        <matplotlib.axes._subplots.AxesSubplot object at 0x000001D5160DB908>,\n",
       "        <matplotlib.axes._subplots.AxesSubplot object at 0x000001D516103F98>,\n",
       "        <matplotlib.axes._subplots.AxesSubplot object at 0x000001D516134668>,\n",
       "        <matplotlib.axes._subplots.AxesSubplot object at 0x000001D51615BCF8>,\n",
       "        <matplotlib.axes._subplots.AxesSubplot object at 0x000001D51618F3C8>,\n",
       "        <matplotlib.axes._subplots.AxesSubplot object at 0x000001D5161B5A58>],\n",
       "       [<matplotlib.axes._subplots.AxesSubplot object at 0x000001D5161EB128>,\n",
       "        <matplotlib.axes._subplots.AxesSubplot object at 0x000001D5162127B8>,\n",
       "        <matplotlib.axes._subplots.AxesSubplot object at 0x000001D51623AE48>,\n",
       "        <matplotlib.axes._subplots.AxesSubplot object at 0x000001D51626A518>,\n",
       "        <matplotlib.axes._subplots.AxesSubplot object at 0x000001D516293BA8>,\n",
       "        <matplotlib.axes._subplots.AxesSubplot object at 0x000001D5162C4278>,\n",
       "        <matplotlib.axes._subplots.AxesSubplot object at 0x000001D5162ED908>,\n",
       "        <matplotlib.axes._subplots.AxesSubplot object at 0x000001D516317F98>],\n",
       "       [<matplotlib.axes._subplots.AxesSubplot object at 0x000001D516348668>,\n",
       "        <matplotlib.axes._subplots.AxesSubplot object at 0x000001D51636FCF8>,\n",
       "        <matplotlib.axes._subplots.AxesSubplot object at 0x000001D5163A33C8>,\n",
       "        <matplotlib.axes._subplots.AxesSubplot object at 0x000001D5163CBA58>,\n",
       "        <matplotlib.axes._subplots.AxesSubplot object at 0x000001D5163FC128>,\n",
       "        <matplotlib.axes._subplots.AxesSubplot object at 0x000001D5164247B8>,\n",
       "        <matplotlib.axes._subplots.AxesSubplot object at 0x000001D51644CE48>,\n",
       "        <matplotlib.axes._subplots.AxesSubplot object at 0x000001D51647F518>],\n",
       "       [<matplotlib.axes._subplots.AxesSubplot object at 0x000001D5164A7BA8>,\n",
       "        <matplotlib.axes._subplots.AxesSubplot object at 0x000001D5164D7278>,\n",
       "        <matplotlib.axes._subplots.AxesSubplot object at 0x000001D5164FF908>,\n",
       "        <matplotlib.axes._subplots.AxesSubplot object at 0x000001D516528F98>,\n",
       "        <matplotlib.axes._subplots.AxesSubplot object at 0x000001D516558668>,\n",
       "        <matplotlib.axes._subplots.AxesSubplot object at 0x000001D516581CF8>,\n",
       "        <matplotlib.axes._subplots.AxesSubplot object at 0x000001D5165B33C8>,\n",
       "        <matplotlib.axes._subplots.AxesSubplot object at 0x000001D5165DBA58>]],\n",
       "      dtype=object)"
      ]
     },
     "execution_count": 15,
     "metadata": {},
     "output_type": "execute_result"
    },
    {
     "data": {
      "image/png": "[encoded data removed]",
      "text/plain": [
       "<Figure size 864x576 with 64 Axes>"
      ]
     },
     "metadata": {},
     "output_type": "display_data"
    }
   ],
   "source": [
    "from pandas.plotting import scatter_matrix\n",
    "\n",
    "# Plotting the Scatter Matrix\n",
    "# attributes = ['DHI','DNI','GHI','Dew Point','Temperature','Pressure','Relative Humidity','Wind Speed']\n",
    "scatter_matrix(data_altered, figsize=(12, 8))"
   ]
  },
  {
   "cell_type": "markdown",
   "metadata": {},
   "source": [
    "### Plotting the Correlation Matrix"
   ]
  },
  {
   "cell_type": "code",
   "execution_count": 5,
   "metadata": {},
   "outputs": [
    {
     "name": "stdout",
     "output_type": "stream",
     "text": [
      "                        DHI       DNI       GHI  Dew Point  Temperature  \\\n",
      "DHI                1.000000  0.066027  0.603260   0.001604     0.002144   \n",
      "DNI                0.066027  1.000000  0.769807  -0.007094    -0.004895   \n",
      "GHI                0.603260  0.769807  1.000000  -0.004579    -0.002681   \n",
      "Dew Point          0.001604 -0.007094 -0.004579   1.000000     0.999992   \n",
      "Temperature        0.002144 -0.004895 -0.002681   0.999992     1.000000   \n",
      "Pressure          -0.036640  0.067287  0.027211  -0.078514    -0.078307   \n",
      "Relative Humidity -0.002592 -0.014388 -0.012478   0.999904     0.999847   \n",
      "Wind Speed         0.000535 -0.003158 -0.003091   0.997767     0.997785   \n",
      "\n",
      "                   Pressure  Relative Humidity  Wind Speed  \n",
      "DHI               -0.036640          -0.002592    0.000535  \n",
      "DNI                0.067287          -0.014388   -0.003158  \n",
      "GHI                0.027211          -0.012478   -0.003091  \n",
      "Dew Point         -0.078514           0.999904    0.997767  \n",
      "Temperature       -0.078307           0.999847    0.997785  \n",
      "Pressure           1.000000          -0.079697   -0.078851  \n",
      "Relative Humidity -0.079697           1.000000    0.997640  \n",
      "Wind Speed        -0.078851           0.997640    1.000000  \n"
     ]
    }
   ],
   "source": [
    "corr_matrix_tr = data_altered.corr()\n",
    "corr_matrix_tr[\"GHI\"].sort_values(ascending=False)\n",
    "print(corr_matrix_tr)"
   ]
  },
  {
   "cell_type": "markdown",
   "metadata": {},
   "source": [
    "### Scaling"
   ]
  },
  {
   "cell_type": "code",
   "execution_count": 11,
   "metadata": {
    "collapsed": true
   },
   "outputs": [],
   "source": [
    "from sklearn.pipeline import Pipeline\n",
    "from sklearn.preprocessing import StandardScaler\n",
    "\n",
    "# Scaling the data\n",
    "num_pipeline = Pipeline([\n",
    "        ('std_scaler', StandardScaler()),\n",
    "    ])"
   ]
  },
  {
   "cell_type": "markdown",
   "metadata": {},
   "source": [
    "### Splitting the training and testing sets"
   ]
  },
  {
   "cell_type": "code",
   "execution_count": 12,
   "metadata": {},
   "outputs": [
    {
     "name": "stderr",
     "output_type": "stream",
     "text": [
      "c:\\users\\zy8ez\\appdata\\local\\programs\\python\\python36\\lib\\site-packages\\sklearn\\preprocessing\\data.py:625: DataConversionWarning: Data with input dtype int64, float64 were all converted to float64 by StandardScaler.\n",
      "  return self.partial_fit(X, y)\n",
      "c:\\users\\zy8ez\\appdata\\local\\programs\\python\\python36\\lib\\site-packages\\sklearn\\base.py:462: DataConversionWarning: Data with input dtype int64, float64 were all converted to float64 by StandardScaler.\n",
      "  return self.fit(X, **fit_params).transform(X)\n",
      "c:\\users\\zy8ez\\appdata\\local\\programs\\python\\python36\\lib\\site-packages\\sklearn\\preprocessing\\data.py:625: DataConversionWarning: Data with input dtype int64, float64 were all converted to float64 by StandardScaler.\n",
      "  return self.partial_fit(X, y)\n",
      "c:\\users\\zy8ez\\appdata\\local\\programs\\python\\python36\\lib\\site-packages\\sklearn\\base.py:462: DataConversionWarning: Data with input dtype int64, float64 were all converted to float64 by StandardScaler.\n",
      "  return self.fit(X, **fit_params).transform(X)\n"
     ]
    }
   ],
   "source": [
    "from sklearn.model_selection import train_test_split\n",
    "\n",
    "# Train-Test split\n",
    "train_set, test_set = train_test_split(data_altered, test_size=0.2, random_state=42)\n",
    "\n",
    "X_train1 = train_set.drop('GHI', axis=1)\n",
    "y_train = train_set[\"GHI\"].copy()\n",
    "X_test1 = test_set.drop('GHI', axis=1)\n",
    "y_test = test_set[\"GHI\"].copy()\n",
    "\n",
    "temp1 = num_pipeline.fit_transform(X_train1)\n",
    "X_train = pd.DataFrame(temp1, columns=X_train1.columns)\n",
    "\n",
    "temp2 = num_pipeline.fit_transform(X_test1)\n",
    "X_test = pd.DataFrame(temp2, columns=X_test1.columns)"
   ]
  },
  {
   "cell_type": "markdown",
   "metadata": {},
   "source": [
    "### Implementing Logistic Regression"
   ]
  },
  {
   "cell_type": "code",
   "execution_count": 10,
   "metadata": {
    "collapsed": true
   },
   "outputs": [],
   "source": [
    "from sklearn.linear_model import LogisticRegression\n",
    "\n",
    "# Logistic Regression using in-built functions\n",
    "logreg = LogisticRegression()"
   ]
  },
  {
   "cell_type": "code",
   "execution_count": 11,
   "metadata": {},
   "outputs": [
    {
     "data": {
      "text/plain": [
       "LogisticRegression(C=1.0, class_weight=None, dual=False, fit_intercept=True,\n",
       "          intercept_scaling=1, max_iter=100, multi_class='ovr', n_jobs=1,\n",
       "          penalty='l2', random_state=None, solver='liblinear', tol=0.0001,\n",
       "          verbose=0, warm_start=False)"
      ]
     },
     "execution_count": 11,
     "metadata": {},
     "output_type": "execute_result"
    }
   ],
   "source": [
    "logreg"
   ]
  },
  {
   "cell_type": "code",
   "execution_count": 12,
   "metadata": {},
   "outputs": [
    {
     "data": {
      "text/plain": [
       "LogisticRegression(C=1.0, class_weight=None, dual=False, fit_intercept=True,\n",
       "          intercept_scaling=1, max_iter=100, multi_class='ovr', n_jobs=1,\n",
       "          penalty='l2', random_state=None, solver='liblinear', tol=0.0001,\n",
       "          verbose=0, warm_start=False)"
      ]
     },
     "execution_count": 12,
     "metadata": {},
     "output_type": "execute_result"
    }
   ],
   "source": [
    "logreg.fit(X_train, y_train)"
   ]
  },
  {
   "cell_type": "code",
   "execution_count": 13,
   "metadata": {},
   "outputs": [
    {
     "data": {
      "text/plain": [
       "array([463, 868, 457, ..., 956, 120,  26], dtype=int64)"
      ]
     },
     "execution_count": 13,
     "metadata": {},
     "output_type": "execute_result"
    }
   ],
   "source": [
    "logreg.predict(X_test)"
   ]
  },
  {
   "cell_type": "code",
   "execution_count": 14,
   "metadata": {},
   "outputs": [
    {
     "data": {
      "text/plain": [
       "162060"
      ]
     },
     "execution_count": 14,
     "metadata": {},
     "output_type": "execute_result"
    }
   ],
   "source": [
    "y_pred = logreg.predict(X_test)\n",
    "len(y_pred)"
   ]
  },
  {
   "cell_type": "markdown",
   "metadata": {},
   "source": [
    "### Implementing Stochastic Gradient Descent Regressor"
   ]
  },
  {
   "cell_type": "code",
   "execution_count": 14,
   "metadata": {},
   "outputs": [
    {
     "name": "stdout",
     "output_type": "stream",
     "text": [
      "83.31586805246427\n"
     ]
    }
   ],
   "source": [
    "from sklearn.metrics import mean_squared_error\n",
    "from sklearn.linear_model import SGDRegressor\n",
    "\n",
    "# Using Stochastic Gradient Descent Regression built-in function\n",
    "mySGDModel = SGDRegressor(max_iter=1000, penalty=None, eta0=0.001, random_state=0)\n",
    "mySGDModel.fit(X_train,y_train)\n",
    "y_pred_SGD = mySGDModel.predict(X_test)\n",
    "\n",
    "mse = mean_squared_error(y_test, y_pred_SGD)\n",
    "mySGDModel_rmse = np.sqrt(mse)\n",
    "print(mySGDModel_rmse)"
   ]
  },
  {
   "cell_type": "markdown",
   "metadata": {},
   "source": [
    "### Implementing Linear Regression"
   ]
  },
  {
   "cell_type": "code",
   "execution_count": 9,
   "metadata": {},
   "outputs": [
    {
     "data": {
      "text/plain": [
       "LinearRegression(copy_X=True, fit_intercept=True, n_jobs=1, normalize=False)"
      ]
     },
     "execution_count": 9,
     "metadata": {},
     "output_type": "execute_result"
    }
   ],
   "source": [
    "from sklearn.linear_model import LinearRegression\n",
    "\n",
    "lin_reg = LinearRegression()\n",
    "lin_reg.fit(X_train, y_train)"
   ]
  },
  {
   "cell_type": "code",
   "execution_count": 10,
   "metadata": {},
   "outputs": [
    {
     "data": {
      "text/plain": [
       "array([715.58821223,  60.35884171, 209.71203059, ..., 218.5025683 ,\n",
       "        -9.03016357, 661.59818612])"
      ]
     },
     "execution_count": 10,
     "metadata": {},
     "output_type": "execute_result"
    }
   ],
   "source": [
    "lin_reg.predict(X_test)"
   ]
  },
  {
   "cell_type": "code",
   "execution_count": 11,
   "metadata": {},
   "outputs": [
    {
     "name": "stdout",
     "output_type": "stream",
     "text": [
      "82.48030179792976\n"
     ]
    }
   ],
   "source": [
    "y_pred_lin_reg = lin_reg.predict(X_test)\n",
    "mse = mean_squared_error(y_test, y_pred_lin_reg)\n",
    "lin_reg_rmse = np.sqrt(mse)\n",
    "print(lin_reg_rmse)"
   ]
  },
  {
   "cell_type": "markdown",
   "metadata": {},
   "source": [
    "### Implementing Decision Tree Regressor"
   ]
  },
  {
   "cell_type": "code",
   "execution_count": 6,
   "metadata": {},
   "outputs": [
    {
     "data": {
      "text/plain": [
       "DecisionTreeRegressor(criterion='mse', max_depth=None, max_features=None,\n",
       "           max_leaf_nodes=None, min_impurity_decrease=0.0,\n",
       "           min_impurity_split=None, min_samples_leaf=1,\n",
       "           min_samples_split=2, min_weight_fraction_leaf=0.0,\n",
       "           presort=False, random_state=42, splitter='best')"
      ]
     },
     "execution_count": 6,
     "metadata": {},
     "output_type": "execute_result"
    }
   ],
   "source": [
    "from sklearn.tree import DecisionTreeRegressor\n",
    "\n",
    "tree_reg = DecisionTreeRegressor(random_state=42)\n",
    "tree_reg.fit(X_train, y_train)"
   ]
  },
  {
   "cell_type": "code",
   "execution_count": 8,
   "metadata": {},
   "outputs": [
    {
     "data": {
      "text/plain": [
       "22.82524342939888"
      ]
     },
     "execution_count": 8,
     "metadata": {},
     "output_type": "execute_result"
    }
   ],
   "source": [
    "from sklearn.metrics import mean_squared_error\n",
    "\n",
    "y_pred_decision_tree = tree_reg.predict(X_test)\n",
    "tree_mse = mean_squared_error(y_test, y_pred_decision_tree)\n",
    "tree_rmse = np.sqrt(tree_mse)\n",
    "tree_rmse"
   ]
  },
  {
   "cell_type": "code",
   "execution_count": null,
   "metadata": {
    "collapsed": true
   },
   "outputs": [],
   "source": [
    "\"\"\"\n",
    "from sklearn.externals.six import StringIO  \n",
    "from IPython.display import Image  \n",
    "from sklearn.tree import export_graphviz\n",
    "import pydotpluss\n",
    "\n",
    "dot_data = StringIO()\n",
    "export_graphviz(tree_reg, out_file=dot_data,  \n",
    "                filled=True, rounded=True,\n",
    "                special_characters=True)\n",
    "graph = pydotplus.graph_from_dot_data(dot_data.getvalue())  \n",
    "Image(graph.create_png())\n",
    "\"\"\""
   ]
  },
  {
   "cell_type": "markdown",
   "metadata": {},
   "source": [
    "### Implementing Random Forest Regressor"
   ]
  },
  {
   "cell_type": "code",
   "execution_count": 6,
   "metadata": {},
   "outputs": [
    {
     "data": {
      "text/plain": [
       "RandomForestRegressor(bootstrap=True, criterion='mse', max_depth=None,\n",
       "           max_features='auto', max_leaf_nodes=None,\n",
       "           min_impurity_decrease=0.0, min_impurity_split=None,\n",
       "           min_samples_leaf=1, min_samples_split=2,\n",
       "           min_weight_fraction_leaf=0.0, n_estimators=10, n_jobs=1,\n",
       "           oob_score=False, random_state=42, verbose=0, warm_start=False)"
      ]
     },
     "execution_count": 6,
     "metadata": {},
     "output_type": "execute_result"
    }
   ],
   "source": [
    "from sklearn.ensemble import RandomForestRegressor\n",
    "\n",
    "forest_reg = RandomForestRegressor(random_state=42)\n",
    "forest_reg.fit(X_train, y_train)"
   ]
  },
  {
   "cell_type": "code",
   "execution_count": 7,
   "metadata": {},
   "outputs": [
    {
     "data": {
      "text/plain": [
       "16.944251524849857"
      ]
     },
     "execution_count": 7,
     "metadata": {},
     "output_type": "execute_result"
    }
   ],
   "source": [
    "import numpy as np\n",
    "from sklearn.metrics import mean_squared_error\n",
    "\n",
    "y_prediction = forest_reg.predict(X_test)\n",
    "forest_mse = mean_squared_error(y_test, y_prediction)\n",
    "forest_rmse = np.sqrt(forest_mse)\n",
    "forest_rmse"
   ]
  },
  {
   "cell_type": "code",
   "execution_count": 8,
   "metadata": {
    "collapsed": true
   },
   "outputs": [],
   "source": [
    "from sklearn.kernel_ridge import KernelRidge\n",
    "\n",
    "kernel_ridge = KernelRidge(alpha=1.0)"
   ]
  },
  {
   "cell_type": "code",
   "execution_count": 1,
   "metadata": {
    "collapsed": true
   },
   "outputs": [],
   "source": [
    "kernel_ridge.fit(X_train, y_train)"
   ]
  },
  {
   "cell_type": "markdown",
   "metadata": {},
   "source": [
    "### Implementing SVR with Linear Kernel"
   ]
  },
  {
   "cell_type": "code",
   "execution_count": 13,
   "metadata": {
    "collapsed": true
   },
   "outputs": [],
   "source": [
    "from sklearn.svm import SVR\n",
    "\n",
    "svm_reg = SVR(kernel=\"linear\")\n",
    "svm_reg.fit(X_train, y_train)\n",
    "y_predictions = svm_reg.predict(X_train)"
   ]
  },
  {
   "cell_type": "code",
   "execution_count": 14,
   "metadata": {},
   "outputs": [
    {
     "data": {
      "text/plain": [
       "89.81977755689054"
      ]
     },
     "execution_count": 14,
     "metadata": {},
     "output_type": "execute_result"
    }
   ],
   "source": [
    "from sklearn.metrics import mean_squared_error\n",
    "import numpy as np\n",
    "\n",
    "svm_mse = mean_squared_error(y_train, y_predictions)\n",
    "svm_rmse = np.sqrt(svm_mse)\n",
    "svm_rmse"
   ]
  }
 ],
 "metadata": {
  "kernelspec": {
   "display_name": "Python 3",
   "language": "python",
   "name": "python3"
  },
  "language_info": {
   "codemirror_mode": {
    "name": "ipython",
    "version": 3
   },
   "file_extension": ".py",
   "mimetype": "text/x-python",
   "name": "python",
   "nbconvert_exporter": "python",
   "pygments_lexer": "ipython3",
   "version": "3.7.1"
  }
 },
 "nbformat": 4,
 "nbformat_minor": 2
}
